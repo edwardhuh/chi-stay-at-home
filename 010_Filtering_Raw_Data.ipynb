{
 "cells": [
  {
   "cell_type": "code",
   "execution_count": 1,
   "id": "29405c15",
   "metadata": {},
   "outputs": [],
   "source": [
    "import pandas as pd\n",
    "import glob\n",
    "from pathlib import Path"
   ]
  },
  {
   "cell_type": "code",
   "execution_count": 2,
   "id": "3f7cd689",
   "metadata": {},
   "outputs": [
    {
     "data": {
      "text/plain": [
       "PosixPath('/Users/edward/Documents/race-covid/data/raw/2020-04-03-social-distancing.csv.gz')"
      ]
     },
     "execution_count": 2,
     "metadata": {},
     "output_type": "execute_result"
    }
   ],
   "source": [
    "### Input\n",
    "DATA_DIR = Path(\"/Users/edward/Documents/race-covid/data\")\n",
    "RAW_DATA_DIR = DATA_DIR / 'raw'\n",
    "FILTERED_DATA_DIR = DATA_DIR / 'filtered'\n",
    "\n",
    "GZ_DATA_FILES = list(RAW_DATA_DIR.glob(\"*.csv.gz\"))\n",
    "GZ_DATA_FILES[0]"
   ]
  },
  {
   "cell_type": "code",
   "execution_count": 3,
   "id": "ca884fae",
   "metadata": {},
   "outputs": [],
   "source": [
    "clean_data_dict = {file.stem: file for file in GZ_DATA_FILES}\n",
    "clean_dates = [x[:10] for x in clean_data_dict.keys()]"
   ]
  },
  {
   "cell_type": "code",
   "execution_count": 4,
   "id": "51fa1ca6",
   "metadata": {},
   "outputs": [
    {
     "data": {
      "text/plain": [
       "'/Users/edward/Documents/race-covid/data/filtered/filtered_2020-04-03.parquet'"
      ]
     },
     "execution_count": 4,
     "metadata": {},
     "output_type": "execute_result"
    }
   ],
   "source": [
    "OUTPUT_DATA_DIRS = [f'{FILTERED_DATA_DIR}/filtered_{dates}.parquet' for dates in clean_dates]\n",
    "OUTPUT_DATA_DIRS[0]"
   ]
  },
  {
   "cell_type": "code",
   "execution_count": 5,
   "id": "c27c8c6f",
   "metadata": {},
   "outputs": [],
   "source": [
    "def filter_cook_county(df_dir, ids):\n",
    "    df = pd.read_csv(df_dir)\n",
    "    df['FIPS'] = df.origin_census_block_group.apply(lambda x: str(x)[:5])\n",
    "    output_df = df[df.FIPS.isin(['17031'])]\n",
    "    output_df.to_parquet(ids)\n",
    "    return(f'{ids} complete!')"
   ]
  },
  {
   "cell_type": "code",
   "execution_count": 6,
   "id": "22115949",
   "metadata": {},
   "outputs": [
    {
     "data": {
      "text/plain": [
       "['/Users/edward/Documents/race-covid/data/filtered/filtered_2020-04-03.parquet complete!',\n",
       " '/Users/edward/Documents/race-covid/data/filtered/filtered_2020-03-08.parquet complete!',\n",
       " '/Users/edward/Documents/race-covid/data/filtered/filtered_2020-03-21.parquet complete!',\n",
       " '/Users/edward/Documents/race-covid/data/filtered/filtered_2020-03-16.parquet complete!',\n",
       " '/Users/edward/Documents/race-covid/data/filtered/filtered_2020-03-12.parquet complete!',\n",
       " '/Users/edward/Documents/race-covid/data/filtered/filtered_2020-03-25.parquet complete!',\n",
       " '/Users/edward/Documents/race-covid/data/filtered/filtered_2020-03-29.parquet complete!',\n",
       " '/Users/edward/Documents/race-covid/data/filtered/filtered_2020-03-13.parquet complete!',\n",
       " '/Users/edward/Documents/race-covid/data/filtered/filtered_2020-03-24.parquet complete!',\n",
       " '/Users/edward/Documents/race-covid/data/filtered/filtered_2020-03-20.parquet complete!',\n",
       " '/Users/edward/Documents/race-covid/data/filtered/filtered_2020-03-17.parquet complete!',\n",
       " '/Users/edward/Documents/race-covid/data/filtered/filtered_2020-03-28.parquet complete!',\n",
       " '/Users/edward/Documents/race-covid/data/filtered/filtered_2020-04-02.parquet complete!',\n",
       " '/Users/edward/Documents/race-covid/data/filtered/filtered_2020-03-09.parquet complete!',\n",
       " '/Users/edward/Documents/race-covid/data/filtered/filtered_2020-03-19.parquet complete!',\n",
       " '/Users/edward/Documents/race-covid/data/filtered/filtered_2020-03-22.parquet complete!',\n",
       " '/Users/edward/Documents/race-covid/data/filtered/filtered_2020-03-15.parquet complete!',\n",
       " '/Users/edward/Documents/race-covid/data/filtered/filtered_2020-03-11.parquet complete!',\n",
       " '/Users/edward/Documents/race-covid/data/filtered/filtered_2020-03-26.parquet complete!',\n",
       " '/Users/edward/Documents/race-covid/data/filtered/filtered_2020-03-07.parquet complete!',\n",
       " '/Users/edward/Documents/race-covid/data/filtered/filtered_2020-03-30.parquet complete!',\n",
       " '/Users/edward/Documents/race-covid/data/filtered/filtered_2020-04-01.parquet complete!',\n",
       " '/Users/edward/Documents/race-covid/data/filtered/filtered_2020-03-31.parquet complete!',\n",
       " '/Users/edward/Documents/race-covid/data/filtered/filtered_2020-03-18.parquet complete!',\n",
       " '/Users/edward/Documents/race-covid/data/filtered/filtered_2020-03-10.parquet complete!',\n",
       " '/Users/edward/Documents/race-covid/data/filtered/filtered_2020-03-27.parquet complete!',\n",
       " '/Users/edward/Documents/race-covid/data/filtered/filtered_2020-03-23.parquet complete!',\n",
       " '/Users/edward/Documents/race-covid/data/filtered/filtered_2020-03-14.parquet complete!']"
      ]
     },
     "execution_count": 6,
     "metadata": {},
     "output_type": "execute_result"
    }
   ],
   "source": [
    "[filter_cook_county(df_dir, ids) for df_dir,ids in zip(GZ_DATA_FILES, OUTPUT_DATA_DIRS)]"
   ]
  }
 ],
 "metadata": {
  "kernelspec": {
   "display_name": "Python 3",
   "language": "python",
   "name": "python3"
  },
  "language_info": {
   "codemirror_mode": {
    "name": "ipython",
    "version": 3
   },
   "file_extension": ".py",
   "mimetype": "text/x-python",
   "name": "python",
   "nbconvert_exporter": "python",
   "pygments_lexer": "ipython3",
   "version": "3.8.8"
  }
 },
 "nbformat": 4,
 "nbformat_minor": 5
}
